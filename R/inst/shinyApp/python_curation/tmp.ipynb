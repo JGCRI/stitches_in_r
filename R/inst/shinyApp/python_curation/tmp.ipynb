{
 "cells": [
  {
   "cell_type": "code",
   "execution_count": null,
   "metadata": {
    "collapsed": true
   },
   "outputs": [],
   "source": [
    "# # for testing if masking is happening right\n",
    "        # x.sel(time=slice(ref_start, '1995-01-31')).pr.to_dataframe().reset_index()#.to_csv(\n",
    "        #    # (esmname+exp+'.csv'), index=False)\n",
    "        #\n",
    "        #\n",
    "        #\n",
    "        # x = x.sel(time=slice(ref_start, '1995-01-31'),\n",
    "        # lon = slice(aoi_lon[0], aoi_lon[1]),\n",
    "        # lat = slice(aoi_lat[0], aoi_lat[1])).where(aoi_mask).copy()\n",
    "        # x1 = x.pr.to_dataframe().dropna().reset_index().drop(['region'], axis=1).reset_index(drop=True).copy()\n",
    "        # x1.to_csv('test.csv', index=False)"
   ]
  }
 ],
 "metadata": {
  "kernelspec": {
   "display_name": "Python 3",
   "language": "python",
   "name": "python3"
  },
  "language_info": {
   "codemirror_mode": {
    "name": "ipython",
    "version": 2
   },
   "file_extension": ".py",
   "mimetype": "text/x-python",
   "name": "python",
   "nbconvert_exporter": "python",
   "pygments_lexer": "ipython2",
   "version": "2.7.6"
  }
 },
 "nbformat": 4,
 "nbformat_minor": 0
}