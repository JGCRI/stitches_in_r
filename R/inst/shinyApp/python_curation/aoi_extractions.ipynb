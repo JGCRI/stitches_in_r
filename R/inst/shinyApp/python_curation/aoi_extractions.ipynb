{
 "cells": [
  {
   "cell_type": "markdown",
   "source": [
    "# curating  data for an area of interest\n",
    "\n",
    "- easy to do a for a single AOI, just update and re-run script for different AOI.\n",
    "Inefficient as we start wanting to look at more.\n",
    "- Update code relative to `aoi_calculations.ipynb` to try to keep things grouped\n",
    "by region\n",
    "\n",
    "\n",
    "# Import general packages\n"
   ],
   "metadata": {
    "collapsed": false
   }
  },
  {
   "cell_type": "code",
   "execution_count": null,
   "outputs": [],
   "source": [
    "import stitches as stitches\n",
    "\n",
    "\n",
    "import pandas as pd\n",
    "import pkg_resources\n",
    "import xarray as xr\n",
    "import numpy as np\n",
    "import seaborn as sns\n",
    "\n",
    "# Plotting options\n",
    "sns.set(font_scale=1.3)\n",
    "sns.set_style(\"white\")\n",
    "# For help with plotting\n",
    "from matplotlib import pyplot as plt\n",
    "%matplotlib inline\n",
    "%config InlineBackend.figure_format = 'retina'\n",
    "plt.rcParams['figure.figsize'] = 12, 6\n",
    "pd.set_option('display.max_columns', None)"
   ],
   "metadata": {
    "collapsed": false,
    "pycharm": {
     "name": "#%%\n"
    }
   }
  },
  {
   "cell_type": "markdown",
   "source": [
    "# import packages for spatial masking"
   ],
   "metadata": {
    "collapsed": false,
    "pycharm": {
     "name": "#%% md\n"
    }
   }
  },
  {
   "cell_type": "code",
   "execution_count": 2,
   "outputs": [],
   "source": [
    "import geopandas as gpd\n",
    "# Spatial subsetting of netcdf files:\n",
    "import regionmask"
   ],
   "metadata": {
    "collapsed": false,
    "pycharm": {
     "name": "#%%\n"
    }
   }
  },
  {
   "cell_type": "markdown",
   "source": [
    "#  Set up time slices and area of interest (AOI) to focus on\n",
    "\n",
    "- require ensemble average PR values over the ref period and comparison period\n",
    "for an area of interest\n",
    "- Do spatial aggregation for each ensemble member, take the time average in the\n",
    "time window, calculate average across ensemble members"
   ],
   "metadata": {
    "collapsed": false
   }
  },
  {
   "cell_type": "code",
   "execution_count": 3,
   "outputs": [],
   "source": [
    "# Time slices\n",
    "ref_start = '1995-01-01'\n",
    "ref_end =  '2014-12-31'\n",
    "\n",
    "comp_start = '2015-01-01'\n",
    "comp_end =  '2099-12-31'\n",
    "\n",
    "window_length = 20"
   ],
   "metadata": {
    "collapsed": false,
    "pycharm": {
     "name": "#%%\n"
    }
   }
  },
  {
   "cell_type": "code",
   "execution_count": 4,
   "outputs": [
    {
     "data": {
      "text/plain": "       Continent  Type               Name Acronym  \\\n0          POLAR  Land  Greenland/Iceland     GIC   \n1  NORTH-AMERICA  Land  N.W.North-America     NWN   \n2  NORTH-AMERICA  Land  N.E.North-America     NEN   \n3  NORTH-AMERICA  Land    W.North-America     WNA   \n4  NORTH-AMERICA  Land    C.North-America     CNA   \n\n                                            geometry  \n0  POLYGON ((-10.00000 62.00000, -10.43750 62.000...  \n1  POLYGON ((-105.00000 50.00000, -105.43860 50.0...  \n2  POLYGON ((-50.00000 50.00000, -50.44000 50.000...  \n3  POLYGON ((-130.00000 50.00000, -129.56140 50.0...  \n4  POLYGON ((-90.00000 50.00000, -90.00000 49.561...  ",
      "text/html": "<div>\n<style scoped>\n    .dataframe tbody tr th:only-of-type {\n        vertical-align: middle;\n    }\n\n    .dataframe tbody tr th {\n        vertical-align: top;\n    }\n\n    .dataframe thead th {\n        text-align: right;\n    }\n</style>\n<table border=\"1\" class=\"dataframe\">\n  <thead>\n    <tr style=\"text-align: right;\">\n      <th></th>\n      <th>Continent</th>\n      <th>Type</th>\n      <th>Name</th>\n      <th>Acronym</th>\n      <th>geometry</th>\n    </tr>\n  </thead>\n  <tbody>\n    <tr>\n      <th>0</th>\n      <td>POLAR</td>\n      <td>Land</td>\n      <td>Greenland/Iceland</td>\n      <td>GIC</td>\n      <td>POLYGON ((-10.00000 62.00000, -10.43750 62.000...</td>\n    </tr>\n    <tr>\n      <th>1</th>\n      <td>NORTH-AMERICA</td>\n      <td>Land</td>\n      <td>N.W.North-America</td>\n      <td>NWN</td>\n      <td>POLYGON ((-105.00000 50.00000, -105.43860 50.0...</td>\n    </tr>\n    <tr>\n      <th>2</th>\n      <td>NORTH-AMERICA</td>\n      <td>Land</td>\n      <td>N.E.North-America</td>\n      <td>NEN</td>\n      <td>POLYGON ((-50.00000 50.00000, -50.44000 50.000...</td>\n    </tr>\n    <tr>\n      <th>3</th>\n      <td>NORTH-AMERICA</td>\n      <td>Land</td>\n      <td>W.North-America</td>\n      <td>WNA</td>\n      <td>POLYGON ((-130.00000 50.00000, -129.56140 50.0...</td>\n    </tr>\n    <tr>\n      <th>4</th>\n      <td>NORTH-AMERICA</td>\n      <td>Land</td>\n      <td>C.North-America</td>\n      <td>CNA</td>\n      <td>POLYGON ((-90.00000 50.00000, -90.00000 49.561...</td>\n    </tr>\n  </tbody>\n</table>\n</div>"
     },
     "execution_count": 4,
     "metadata": {},
     "output_type": "execute_result"
    }
   ],
   "source": [
    "# AOI\n",
    "# working off https://www.earthdatascience.org/courses/use-data-open-source-python/hierarchical-data-formats-hdf/subset-netcdf4-climate-data-spatially-aoi/\n",
    "\n",
    "# # physical land polygon files:\n",
    "# url =  (    \"https://naturalearth.s3.amazonaws.com/\"\n",
    "# \"10m_physical/ne_10m_land.zip\")\n",
    "\n",
    "# # country URL\n",
    "# url =  (    \"https://naturalearth.s3.amazonaws.com/\"\n",
    "#             \"10m_cultural/ne_10m_admin_0_countries.zip\")\n",
    "\n",
    "# # state/province URL\n",
    "# url =  (    \"https://naturalearth.s3.amazonaws.com/\"\n",
    "#             \"10m_cultural/ne_10m_admin_1_states_provinces.zip\")\n",
    "\n",
    "# IPCC ar6 reference regions - including ocean regions\n",
    "# actually have to download locally from\n",
    "# https://github.com/IPCC-WG1/Atlas/blob/main/reference-regions/IPCC-WGI-reference-regions-v4_shapefile.zip\n",
    "url =  (   'IPCC-WGI-reference-regions-v4_shapefile.zip')\n",
    "\n",
    "land_main_gdf = gpd.read_file(url)\n",
    "land_main_gdf.head()"
   ],
   "metadata": {
    "collapsed": false,
    "pycharm": {
     "name": "#%%\n"
    }
   }
  },
  {
   "cell_type": "code",
   "execution_count": 5,
   "outputs": [
    {
     "name": "stdout",
     "output_type": "stream",
     "text": [
      "['GIC' 'NWN' 'NEN' 'WNA' 'CNA' 'ENA' 'NCA' 'SCA' 'CAR' 'NWS' 'NSA' 'NES'\n",
      " 'SAM' 'SWS' 'SES' 'SSA' 'NEU' 'WCE' 'EEU' 'MED' 'SAH' 'WAF' 'CAF' 'NEAF'\n",
      " 'SEAF' 'WSAF' 'ESAF' 'MDG' 'RAR' 'WSB' 'ESB' 'RFE' 'WCA' 'ECA' 'TIB'\n",
      " 'EAS' 'ARP' 'SAS' 'SEA' 'NAU' 'CAU' 'EAU' 'SAU' 'NZ' 'EAN' 'WAN' 'ARO'\n",
      " 'NPO' 'EPO' 'SPO' 'NAO' 'EAO' 'SAO' 'ARS' 'BOB' 'EIO' 'SIO' 'SOO']\n"
     ]
    },
    {
     "data": {
      "text/plain": "<AxesSubplot:>"
     },
     "execution_count": 5,
     "metadata": {},
     "output_type": "execute_result"
    },
    {
     "data": {
      "text/plain": "<Figure size 864x432 with 1 Axes>",
      "image/png": "[encoded data removed]"
     },
     "metadata": {
      "image/png": {
       "width": 700,
       "height": 363
      },
      "needs_background": "light"
     },
     "output_type": "display_data"
    }
   ],
   "source": [
    "IPCC_names  = land_main_gdf['Acronym'].unique()\n",
    "print(IPCC_names)\n",
    "land_main_gdf.plot()\n"
   ],
   "metadata": {
    "collapsed": false,
    "pycharm": {
     "name": "#%%\n"
    }
   }
  },
  {
   "cell_type": "markdown",
   "source": [
    "# specify ESMs, variables, experiments"
   ],
   "metadata": {
    "collapsed": false,
    "pycharm": {
     "name": "#%% md\n"
    }
   }
  },
  {
   "cell_type": "code",
   "execution_count": 6,
   "outputs": [],
   "source": [
    "# The CMIP6 ESM we want to emulate and the variables we want to\n",
    "# emulate\n",
    "# NOTE IPSL and GFDL submitted results under grids labeled not `gn` so they\n",
    "# are not included in the stitches patches data. To pull their ESMs, we have to\n",
    "# source the pangeo table directly from pangeo and reshape it instead of using\n",
    "# the stitches package data.\n",
    "\n",
    "\n",
    "esm = ['CAMS-CSM1-0', 'MIROC6', 'GFDL-ESM4', 'FGOALS-g3',\n",
    "'MPI-ESM1-2-HR', 'MPI-ESM1-2-LR', 'MRI-ESM2-0',\n",
    "'ACCESS-ESM1-5', 'IPSL-CM6A-LR', 'CESM2-WACCM',\n",
    "'UKESM1-0-LL',\n",
    "'CanESM5']\n",
    "\n",
    "vars1 = ['pr']\n",
    "\n",
    "exps = ['historical','ssp126', 'ssp245', 'ssp370',  'ssp585',\n",
    "        'ssp460', 'ssp119',   'ssp434', 'ssp534-over']"
   ],
   "metadata": {
    "collapsed": false,
    "pycharm": {
     "name": "#%%\n"
    }
   }
  },
  {
   "cell_type": "markdown",
   "source": [
    "# Pull pangeo dataframe with netcdf addresses for above"
   ],
   "metadata": {
    "collapsed": false
   }
  },
  {
   "cell_type": "code",
   "execution_count": 7,
   "outputs": [],
   "source": [
    "# pangeo table of ESMs for reference\n",
    "pangeo_data = stitches.fx_pangeo.fetch_pangeo_table()\n",
    "\n",
    "pangeo_data = pangeo_data[(pangeo_data['source_id'].isin(esm)) &\n",
    "                           (pangeo_data['variable_id'].isin(vars1)) &(pangeo_data['table_id'] == 'Amon')&\n",
    "                           ((pangeo_data['experiment_id'].isin(exps)))].copy()\n",
    "\n",
    "# reshape to look like package data but with the ESMs we want to include\n",
    "pangeo_data = pangeo_data[[\"source_id\", \"experiment_id\", \"member_id\", \"variable_id\", \"grid_label\",\n",
    "                                                        \"zstore\", \"table_id\"]].copy()\n",
    "pangeo_data = pangeo_data.rename(columns={\"source_id\": \"model\", \"experiment_id\": \"experiment\",\n",
    "                                                \"member_id\": \"ensemble\", \"variable_id\": \"variable\",\n",
    "                                                \"zstore\": \"zstore\", \"table_id\": \"domain\"}).reset_index(drop = True).copy()\n",
    "\n",
    " # keep only p1 runs:\n",
    "# UK model only does f2 runs for some reason\n",
    "ukesm_data =  pangeo_data[pangeo_data['model'].str.contains('UKESM')].copy()\n",
    "ukesm_data = ukesm_data[ukesm_data['ensemble'].str.contains('i1p1f2')].copy()\n",
    "\n",
    "# everyone else does f1 runs\n",
    "pangeo_data = pangeo_data[pangeo_data['ensemble'].str.contains('i1p1f1')].copy()\n",
    "\n",
    "# combine UKESM with other models\n",
    "pangeo_data = pd.concat([pangeo_data, ukesm_data]).reset_index(drop=True).copy()\n"
   ],
   "metadata": {
    "collapsed": false,
    "pycharm": {
     "name": "#%%\n"
    }
   }
  },
  {
   "cell_type": "markdown",
   "source": [
    "# loop over files and do calculations"
   ],
   "metadata": {
    "collapsed": false,
    "pycharm": {
     "name": "#%% md\n"
    }
   }
  },
  {
   "cell_type": "code",
   "execution_count": null,
   "outputs": [],
   "source": [
    "aoi = land_main_gdf.reset_index(drop=True).copy()\n"
   ],
   "metadata": {
    "collapsed": false,
    "pycharm": {
     "name": "#%%\n"
    }
   }
  },
  {
   "cell_type": "code",
   "execution_count": null,
   "outputs": [],
   "source": [
    "varname = vars1[0]\n",
    "\n",
    "holder = pd.DataFrame()\n",
    "timeseries_holder = pd.DataFrame()\n",
    "\n",
    "for esmname in esm[0:1]:\n",
    "  for exp in exps[0:1]:\n",
    "\n",
    "    print(esmname)\n",
    "    print(exp)\n",
    "    df_ens_avg = 0\n",
    "\n",
    "    filelist = pangeo_data[(pangeo_data['model'] ==esmname) & (pangeo_data['experiment'] == exp)].copy()\n",
    "\n",
    "    if filelist.empty:\n",
    "        print('no ensemble members for this exp')\n",
    "        df_shaped =  pd.DataFrame({'esm':[esmname]})\n",
    "        df_shaped['experiment'] = exp\n",
    "        df_shaped['ens_avg']= -999\n",
    "        df_shaped['ens_avg_iasd'] = -999\n",
    "        df_shaped['ens_avg_sd'] = -999\n",
    "        # end if no files for experiment\n",
    "\n",
    "    if not filelist.empty:\n",
    "        df_sum = 0\n",
    "        df_iav_sum = 0\n",
    "        df_sd_sum = 0\n",
    "        n_good_files = 0\n",
    "\n",
    "        for i in [0]: # range(len(filelist)):\n",
    "            print(i)\n",
    "\n",
    "            # Load data:\n",
    "            x = stitches.fx_pangeo.fetch_nc(filelist.iloc[i].zstore)\n",
    "            x = x.sortby('time').copy()\n",
    "\n",
    "            # If it's the first ensemble member, set up the mask\n",
    "            if (i==0):\n",
    "                aoi_mask = regionmask.mask_3D_geopandas(aoi,\n",
    "                                                        x.lon,\n",
    "                                                        x.lat)\n",
    "                # end if i==0 set up aoi_mask\n",
    "\n",
    "            # mask the file\n",
    "            x = x.where(aoi_mask).copy()\n",
    "\n",
    "            # If the experiment is historical, further slice to reference years.\n",
    "            # Otherwise, slice to comparison years:\n",
    "            if (exp == 'historical'):\n",
    "                window_length = 20\n",
    "                if(esmname == 'UKESM1-0-LL'):\n",
    "                    x = x.sel(time=slice(ref_start, '2014-12-30')).copy()\n",
    "                if(esmname != 'UKESM1-0-LL'):\n",
    "                    x = x.sel(time=slice(ref_start, ref_end)).copy()\n",
    "\n",
    "            if(exp!='historical'):\n",
    "                window_length = 85\n",
    "                if(esmname == 'UKESM1-0-LL'):\n",
    "                    x = x.sel(time=slice(comp_start, '2099-12-30')).copy()\n",
    "                if(esmname != 'UKESM1-0-LL'):\n",
    "                    x = x.sel(time=slice(comp_start, comp_end)).copy()\n",
    "\n",
    "                # end if checks for time slicing\n",
    "\n",
    "            # Check if there are the correct number of time steps in this\n",
    "            # sliced data:\n",
    "            # Very rough QC for checking complete netcdfs and assumes\n",
    "            # comparison window and reference window same length.\n",
    "            if (len(x.time) >= 12*window_length):\n",
    "                # coerce to DF so we can properly lat weight to do spatial aggregation:\n",
    "                x1 = x[varname].to_dataframe().dropna().reset_index().reset_index(drop=True).copy()"
   ],
   "metadata": {
    "collapsed": false,
    "pycharm": {
     "name": "#%%\n"
    }
   }
  },
  {
   "cell_type": "code",
   "execution_count": null,
   "outputs": [],
   "source": [],
   "metadata": {
    "collapsed": false,
    "pycharm": {
     "name": "#%%\n"
    }
   }
  },
  {
   "cell_type": "code",
   "execution_count": null,
   "outputs": [
    {
     "name": "stdout",
     "output_type": "stream",
     "text": [
      "CAMS-CSM1-0\n",
      "historical\n",
      "0\n"
     ]
    }
   ],
   "source": [
    "varname = vars1[0]\n",
    "\n",
    "holder = pd.DataFrame()\n",
    "timeseries_holder = pd.DataFrame()\n",
    "\n",
    "for esmname in esm:\n",
    "  for exp in exps:\n",
    "\n",
    "    print(esmname)\n",
    "    print(exp)\n",
    "    df_ens_avg = 0\n",
    "\n",
    "    filelist = pangeo_data[(pangeo_data['model'] ==esmname) & (pangeo_data['experiment'] == exp)].copy()\n",
    "\n",
    "    if filelist.empty:\n",
    "        print('no ensemble members for this exp')\n",
    "        df_shaped =  pd.DataFrame({'esm':[esmname]})\n",
    "        df_shaped['experiment'] = exp\n",
    "        df_shaped['ens_avg']= -999\n",
    "        df_shaped['ens_avg_iasd'] = -999\n",
    "        df_shaped['ens_avg_sd'] = -999\n",
    "        # end if no files for experiment\n",
    "\n",
    "    if not filelist.empty:\n",
    "        df_sum = 0\n",
    "        df_iav_sum = 0\n",
    "        df_sd_sum = 0\n",
    "        n_good_files = 0\n",
    "\n",
    "        for i in range(len(filelist)):\n",
    "            print(i)\n",
    "\n",
    "            # Load data:\n",
    "            x = stitches.fx_pangeo.fetch_nc(filelist.iloc[i].zstore)\n",
    "            x = x.sortby('time').copy()\n",
    "\n",
    "            # If it's the first ensemble member, set up the mask\n",
    "            if (i==0):\n",
    "                aoi_mask = regionmask.mask_3D_geopandas(aoi,\n",
    "                                                        x.lon,\n",
    "                                                        x.lat)\n",
    "                # end if i==0 set up aoi_mask\n",
    "\n",
    "            # mask the file\n",
    "            x = x.sel(lon = slice(aoi_lon[0], aoi_lon[1]),\n",
    "                      lat = slice(aoi_lat[0], aoi_lat[1])).where(aoi_mask).copy()\n",
    "\n",
    "            # If the experiment is historical, further slice to reference years.\n",
    "            # Otherwise, slice to comparison years:\n",
    "            if (exp == 'historical'):\n",
    "                if(esmname == 'UKESM1-0-LL'):\n",
    "                    x = x.sel(time=slice(ref_start, '2014-12-30')).copy()\n",
    "                if(esmname != 'UKESM1-0-LL'):\n",
    "                    x = x.sel(time=slice(ref_start, ref_end)).copy()\n",
    "\n",
    "            if(exp!='historical'):\n",
    "                if(esmname == 'UKESM1-0-LL'):\n",
    "                    x = x.sel(time=slice(comp_start, '2099-12-30')).copy()\n",
    "                if(esmname != 'UKESM1-0-LL'):\n",
    "                    x = x.sel(time=slice(comp_start, comp_end)).copy()\n",
    "\n",
    "                # end if checks for time slicing\n",
    "\n",
    "            # Check if there are the correct number of time steps in this\n",
    "            # sliced data:\n",
    "            # Very rough QC for checking complete netcdfs and assumes\n",
    "            # comparison window and reference window same length.\n",
    "            if (len(x.time) >= 12*window_length):\n",
    "                # coerce to DF so we can properly lat weight to do spatial aggregation:\n",
    "                x1 = x[varname].to_dataframe().dropna().reset_index().drop(['region'],\n",
    "                                                                     axis=1).reset_index(drop=True).copy()\n",
    "\n",
    "                # spatial aggregation:\n",
    "                monthly_aoi = pd.DataFrame()\n",
    "                for name, group in x1.groupby('time'):\n",
    "                    lat = group['lat']\n",
    "                    area = np.cos(np.deg2rad(lat))\n",
    "                    df = pd.DataFrame({'time': group['time'].drop_duplicates()})\n",
    "                    df['aggregate'] = sum(area * group[varname])/sum(area)\n",
    "                    monthly_aoi = pd.concat([monthly_aoi, df]).reset_index(drop=True).copy()\n",
    "                    del(df)\n",
    "                    del(area)\n",
    "                    del(lat)\n",
    "                    # end for loop over months to do spatial disaggregation\n",
    "\n",
    "                # time average for this ensemble member:\n",
    "                monthly_aoi['year'] = monthly_aoi['time'].apply(lambda x: x.year).copy()\n",
    "                annual_aoi = pd.DataFrame({'year': monthly_aoi['year'].drop_duplicates(),\n",
    "                                           'ann_agg':monthly_aoi.groupby('year')['aggregate'].mean().values}).reset_index(drop=True).copy()\n",
    "                aoi_val = annual_aoi['ann_agg'].mean()\n",
    "                aoi_sd = annual_aoi['ann_agg'].std()\n",
    "                aoi_ia_sd = annual_aoi.diff()['ann_agg'].std()\n",
    "\n",
    "                annual_aoi['esm'] = filelist.iloc[i].model\n",
    "                annual_aoi['experiment'] =  filelist.iloc[i].experiment\n",
    "                annual_aoi['ensemble'] = filelist.iloc[i].ensemble\n",
    "                annual_aoi['variable'] = filelist.iloc[i].variable\n",
    "                timeseries_holder = pd.concat([timeseries_holder, annual_aoi]).reset_index(drop=True).copy()\n",
    "                del(annual_aoi)\n",
    "\n",
    "                # and add it to the running sum for the ensemble members\n",
    "                df_sum = (aoi_val  + df_sum)\n",
    "                df_iav_sum = (aoi_ia_sd + df_iav_sum)\n",
    "                df_sd_sum = (aoi_sd + df_sd_sum)\n",
    "                n_good_files = n_good_files + 1\n",
    "\n",
    "                # end check if is complete data file and subsequent aggregations\n",
    "\n",
    "            # end for loop over file list\n",
    "\n",
    "        # Calculate the ensemble average of CONUS 20 year average precip for this\n",
    "        # experiment\n",
    "        df_shaped =  pd.DataFrame({'esm':[esmname]})\n",
    "        df_shaped['experiment'] = exp\n",
    "        df_shaped['ens_avg']= df_sum/n_good_files\n",
    "        df_shaped['ens_avg_iasd'] = df_iav_sum/n_good_files\n",
    "        df_shaped['ens_avg_sd'] = df_sd_sum/n_good_files\n",
    "        del(df_sum)\n",
    "        del(df_iav_sum)\n",
    "        del(df_sd_sum)\n",
    "        del(n_good_files)\n",
    "        # end if file list not empty\n",
    "\n",
    "\n",
    "    # and append to the pr holding data frame\n",
    "    df_shaped['var'] = varname\n",
    "    holder = pd.concat([holder, df_shaped]).reset_index(drop=True).copy()\n",
    "    del(filelist)\n",
    "    del(df_shaped)\n",
    "    # end loop over experiments\n",
    "# end loop over esms\n"
   ],
   "metadata": {
    "collapsed": false,
    "pycharm": {
     "name": "#%%\n"
    }
   }
  },
  {
   "cell_type": "code",
   "execution_count": null,
   "outputs": [],
   "source": [
    "timeseries_holder.to_csv(('southwest_'+ varname+ '_allesms_timeseries_1995_2100.csv'), index=False)\n",
    "# holder.to_csv(('CONUS_'+ varname+ '_allesms_2015_2100.csv'), index=False)"
   ],
   "metadata": {
    "collapsed": false,
    "pycharm": {
     "name": "#%%\n"
    }
   }
  }
 ],
 "metadata": {
  "kernelspec": {
   "name": "pycharm-58c3bd78",
   "language": "python",
   "display_name": "PyCharm (python_curation)"
  },
  "language_info": {
   "codemirror_mode": {
    "name": "ipython",
    "version": 2
   },
   "file_extension": ".py",
   "mimetype": "text/x-python",
   "name": "python",
   "nbconvert_exporter": "python",
   "pygments_lexer": "ipython2",
   "version": "2.7.6"
  }
 },
 "nbformat": 4,
 "nbformat_minor": 0
}